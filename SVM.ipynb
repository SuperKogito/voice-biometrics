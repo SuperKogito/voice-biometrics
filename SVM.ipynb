{
 "cells": [
  {
   "cell_type": "markdown",
   "metadata": {},
   "source": [
    "### SVM "
   ]
  },
  {
   "cell_type": "code",
   "execution_count": null,
   "metadata": {
    "collapsed": true
   },
   "outputs": [],
   "source": [
    "import numpy as np\n",
    "import scipy.io\n",
    "from scipy.io import wavfile\n",
    "import matplotlib.pyplot as plt\n",
    "from sklearn import mixture, svm, ensemble, covariance\n",
    "import os\n",
    "\n",
    "datafolder = 'D:/WORK/dataset/'    \n",
    "defective = ('9009141939', '9014404791', '9025346235')\n",
    "folders = os.listdir(datafolder)\n",
    "[folders.remove(defective[i]) for i in range(len(defective))] #удаляем из списка бракованные папки\n",
    "\n",
    "gamma_variable = [0.025] #np.arange(0,1,0.01) #0.025; от 0.01 до 0.05, переобучение при приближении к 1\n",
    "nu_variable = [0.1] #np.arange(0,1,0.01) #0.2; от 0.1 до 0.07; недообучение при уменьшении, переобучение при увеличении\n",
    "threshold = 0.07\n",
    "number_of_components = 64\n",
    "\n",
    "def most_common(lst):\n",
    "    return max(set(lst), key=lst.count)\n",
    "\n",
    "\n",
    "def create_supervector(w, m, v):\n",
    "    \"\"\"\n",
    "    Returns Gaussian Supervector (GSV) using bounded Kullback-Leibler\n",
    "    distance method\n",
    "    \"\"\"\n",
    "\n",
    "    #Verify input conforms to proper shapes for matrix math\n",
    "    assert np.size(w,0) == np.size(m,0) == np.size(v,0)\n",
    "    assert np.size(m,1) == np.size(v,1) == np.size(v,2)\n",
    "\n",
    "    num_mixtures = np.size(w,0)\n",
    "    num_mfccs = np.size(m,1)\n",
    "\n",
    "    for i in range(num_mixtures):\n",
    "        m[i,:] = np.sqrt(w[i]) * m[i,:] * np.diag(v[i,:,:]**(-.5))\n",
    "    \n",
    "    return np.reshape(m,(num_mixtures*num_mfccs,1))\n",
    "\n",
    "\n",
    "\n",
    "for g, n in zip(gamma_variable, nu_variable):\n",
    "    \n",
    "    quality = [] \n",
    "    quality_imposter = []\n",
    "\n",
    "    clf =  svm.OneClassSVM(kernel='rbf', degree=3, gamma= float(g), coef0=0.0, \n",
    "                    tol=0.001, nu= float(n), shrinking=True, cache_size=200, \n",
    "                    verbose=False, max_iter=-1, random_state=None)\n",
    "    \n",
    "    \n",
    "    print( \"gamma = \" + str(g), \", nu = \" + str(n))\n",
    "                           \n",
    "    for i in range(0, 100): \n",
    "\n",
    "\n",
    "        \"\"\"\n",
    "        Cобираем данные - обучающая выборка, тестовая, imposter model\n",
    "        \"\"\"\n",
    "        try:\n",
    "            speaker_train = mfcc_mat[i][0][0][0]\n",
    "            speaker_test =  mfcc_mat[i][0][0][1][0]\n",
    "            imposter = imposter_mat\n",
    "\n",
    "\n",
    "\n",
    "            \"\"\"\n",
    "            Обучаем на всех типах данных GMM \n",
    "            \"\"\"\n",
    "\n",
    "            X_train = speaker_train\n",
    "            #GMM = mixture.GaussianMixture(n_components = number_of_components, max_iter=3000).fit(speaker_train)\n",
    "            #X_train = create_supervector(GMM.weights_, GMM.means_, GMM.covariances_ )\n",
    "            #X_train = GMM.means_ \n",
    "            clf.fit(X_train)\n",
    "\n",
    "\n",
    "            X_test = speaker_test\n",
    "            #X_test = []\n",
    "            #for sample in range(0, len(speaker_test)):\n",
    "                #GMM = mixture.GaussianMixture(n_components = number_of_components,  max_iter=3000).fit(speaker_test[sample])\n",
    "                #supervector = create_supervector(GMM.weights_, GMM.means_, GMM.covariances_ )\n",
    "                #X_test.append(supervector)\n",
    "                #X_test.append(GMM.means_)\n",
    "\n",
    "\n",
    "\n",
    "            X_imposter = imposter \n",
    "            #X_imposter = []\n",
    "            #for sample in range(0, len(imposter)):\n",
    "                #GMM = mixture.GaussianMixture(n_components = number_of_components,  max_iter=3000).fit(imposter[sample])\n",
    "                #supervector = create_supervector(GMM.weights_, GMM.means_, GMM.covariances_ )\n",
    "                #X_imposter.append(supervector)\n",
    "                #X_imposter.append(GMM.means_)\n",
    "\n",
    "\n",
    "            \"\"\"\n",
    "            Получаем ответы для тестовой выборки: \n",
    "            predict содержит +1/-1 для каждой записи из теста\n",
    "            quality показывает, сколько правильных ответов дал алгоритм \n",
    "            \"\"\"\n",
    "            predictions_test = [clf.predict(X_test[i]) for i in range(len(X_test))]\n",
    "            predict_test = [predictions_test[i].tolist().count(1)/len(predictions_test[i].tolist()) for i in range(len(predictions_test))]\n",
    "            print(predict_test)\n",
    "            quality.append(predict_test)\n",
    "\n",
    "\n",
    "            \"\"\"\n",
    "            Получаем ответы для imposter model\n",
    "            \"\"\"\n",
    "            predictions_imposter = [clf.predict(X_imposter[i]) for i in range(len(X_imposter))]\n",
    "            predict_imposter = [predictions_imposter[i].tolist().count(1)/len(predictions_imposter[i].tolist()) for i in range( len(predictions_imposter) )]\n",
    "            print(predict_imposter)\n",
    "            quality_imposter.append(predict_imposter)\n",
    "\n",
    "\n",
    "            print(folders[i], ' : ', len([predict_test[i] for i in range(len(predict_test)) if predict_test[i] >= threshold])/len(predict_test), \n",
    "                  ', imposter: ', len([predict_imposter[i] for i in range(len(predict_imposter)) if predict_imposter[i] <= threshold])/len(predict_imposter), '\\n')\n",
    "\n",
    "\n",
    "        except: \n",
    "            pass  \n",
    "        \n",
    "    \"\"\"\n",
    "    ACCURACY \n",
    "    \"\"\"\n",
    "\n",
    "    flag = [item for sublist in quality for item in sublist]\n",
    "    flag_imposter = [item for sublist in quality_imposter for item in sublist]\n",
    "    print(len([flag[i] for i in range(len(flag)) if flag[i] >= threshold])/len(flag))\n",
    "    print(len([flag_imposter[i] for i in range(len(flag_imposter)) if flag_imposter[i] < threshold])/len(flag_imposter))\n",
    "    print('\\n')"
   ]
  },
  {
   "cell_type": "code",
   "execution_count": 76,
   "metadata": {
    "collapsed": false
   },
   "outputs": [
    {
     "name": "stdout",
     "output_type": "stream",
     "text": [
      "0.9520433694745621\n",
      "0.953405017921147\n"
     ]
    }
   ],
   "source": [
    "threshold = 0.2\n",
    "\n",
    "print(len([flag[i] for i in range(len(flag)) if flag[i] >= threshold])/len(flag))\n",
    "print(len([flag_imposter[i] for i in range(len(flag_imposter)) if flag_imposter[i] < threshold])/len(flag_imposter))"
   ]
  },
  {
   "cell_type": "code",
   "execution_count": 35,
   "metadata": {
    "collapsed": false
   },
   "outputs": [
    {
     "name": "stdout",
     "output_type": "stream",
     "text": [
      "0.09303642196640875\n",
      "0.02216216216216216\n"
     ]
    }
   ],
   "source": [
    "def softmax(x):\n",
    "    \"\"\"Compute softmax values for each sets of scores in x.\"\"\"\n",
    "    e_x = np.exp(x - np.max(x))\n",
    "    return e_x / e_x.sum(axis=0)"
   ]
  }
 ],
 "metadata": {
  "anaconda-cloud": {},
  "kernelspec": {
   "display_name": "Python [default]",
   "language": "python",
   "name": "python3"
  },
  "language_info": {
   "codemirror_mode": {
    "name": "ipython",
    "version": 3
   },
   "file_extension": ".py",
   "mimetype": "text/x-python",
   "name": "python",
   "nbconvert_exporter": "python",
   "pygments_lexer": "ipython3",
   "version": "3.5.2"
  }
 },
 "nbformat": 4,
 "nbformat_minor": 1
}
