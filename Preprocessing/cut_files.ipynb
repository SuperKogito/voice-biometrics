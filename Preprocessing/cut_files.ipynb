{
 "cells": [
  {
   "cell_type": "code",
   "execution_count": 79,
   "metadata": {
    "collapsed": true
   },
   "outputs": [],
   "source": [
    "import wave\n",
    "import re\n",
    "import glob\n",
    "import os"
   ]
  },
  {
   "cell_type": "markdown",
   "metadata": {},
   "source": [
    "### Обрезаем на 10sec. Сохранаяем в новую директорию. "
   ]
  },
  {
   "cell_type": "code",
   "execution_count": 91,
   "metadata": {
    "collapsed": false
   },
   "outputs": [],
   "source": [
    "tracks = glob.glob('/Users/1/Desktop/Models/VERIFICATION/for_imposter/*.wav')\n",
    "\n",
    "for i in tracks:\n",
    "    j = re.sub(r'\\\\','/',i)\n",
    "    k = re.sub(r'/Users/1/Desktop/for_imposter','',j)\n",
    "\n",
    "    win= wave.open(i, 'rb')\n",
    "    wout= wave.open('/Users/1/Desktop/Models/VERIFICATION/IMPOSTER/'+ k, 'wb')\n",
    "\n",
    "    t0, t1= 10.0, 20.0 # cut audio between one and two seconds\n",
    "    s0, s1= int(t0*win.getframerate()), int(t1*win.getframerate())\n",
    "    win.readframes(s0) # discard\n",
    "    frames= win.readframes(s1-s0)\n",
    "\n",
    "    wout.setparams(win.getparams())\n",
    "    wout.writeframes(frames)\n",
    "\n",
    "    win.close()\n",
    "    wout.close()"
   ]
  },
  {
   "cell_type": "markdown",
   "metadata": {
    "collapsed": true
   },
   "source": [
    "###  Разделяем на записи по 10sec. Сохранаяем в эту же директорию. "
   ]
  },
  {
   "cell_type": "code",
   "execution_count": 96,
   "metadata": {
    "collapsed": false
   },
   "outputs": [],
   "source": [
    "from pydub import AudioSegment\n",
    "from pydub.utils import make_chunks\n",
    "import random\n",
    "\n",
    "folders = os.listdir('/Users/1/Desktop/share_vm/Models/VERIFICATION_best_preprocessing') #список папок\n",
    "for folder in folders:\n",
    "    ind = 0\n",
    "    tracks = glob.glob('/Users/1/Desktop/share_vm/Models/VERIFICATION_best_preprocessing/' + folder + '/*.wav') #список записей в папке\n",
    "    \n",
    "    for track in tracks:\n",
    "        ind = ind + 1\n",
    "        audio = AudioSegment.from_file(track , \"wav\") #открываем запись для изменения\n",
    "        chunk_length_ms = 10000 # in millisec\n",
    "        chunks = make_chunks(audio, chunk_length_ms) # делаем нарезки по 10sec\n",
    "\n",
    "        # Экспортируем полученные кусочки\n",
    "        \n",
    "        a = re.sub(r'\\\\','/', track)\n",
    "        b = re.sub(r'/Users/1/Desktop/share_vm/Models/VERIFICATION_best_preprocessing/' + folder,'', a)\n",
    "        \n",
    "        for i, chunk in enumerate(chunks):\n",
    "            chunk_name = str(ind) + \"{0}.wav\".format(i)\n",
    "            chunk.export('/Users/1/Desktop/share_vm/Models/VERIFICATION_best_preprocessing/' + folder + '/' + chunk_name, format=\"wav\")\n",
    "            \n",
    "    tracks = glob.glob('/Users/1/Desktop/share_vm/Models/VERIFICATION_best_preprocessing/' + folder + '/*.wav')\n",
    "    \n",
    "    # Отбираем треки по 10sec\n",
    "    tracks_for_join = []\n",
    "    for track in tracks:\n",
    "        goodygoody = re.findall(r'.*\\\\...wav', track)\n",
    "        if len(goodygoody) != 0:\n",
    "            tracks_for_join += goodygoody\n",
    "        \n",
    "    infiles = random.sample(tracks_for_join, 4)\n",
    "    outfile = '/Users/1/Desktop/share_vm/Models/VERIFICATION_best_preprocessing/' + folder + '/JOINED.wav'\n",
    "    \n",
    "    data= []\n",
    "    for infile in infiles:\n",
    "        w = wave.open(infile, 'rb')\n",
    "        data.append( [w.getparams(), w.readframes(w.getnframes())] )\n",
    "        w.close()\n",
    "\n",
    "    output = wave.open(outfile, 'wb')\n",
    "    output.setparams(data[0][0])\n",
    "    output.writeframes(data[0][1])\n",
    "    output.writeframes(data[1][1])\n",
    "    output.writeframes(data[2][1])\n",
    "    output.writeframes(data[3][1])\n",
    "    output.close()"
   ]
  },
  {
   "cell_type": "markdown",
   "metadata": {
    "collapsed": true
   },
   "source": [
    "### Удаляем файлы .MAT "
   ]
  },
  {
   "cell_type": "code",
   "execution_count": 102,
   "metadata": {
    "collapsed": true
   },
   "outputs": [],
   "source": [
    "import os\n",
    "folders = os.listdir('/Users/1/Desktop/share_vm/Models/VERIFICATION') #список папок\n",
    "for folder in folders:\n",
    "    mat_files = glob.glob('/Users/1/Desktop/share_vm/Models/VERIFICATION/' + folder + '/*.mat')\n",
    "    for file in mat_files:\n",
    "        os.remove(file)"
   ]
  }
 ],
 "metadata": {
  "anaconda-cloud": {},
  "kernelspec": {
   "display_name": "Python [conda root]",
   "language": "python",
   "name": "conda-root-py"
  },
  "language_info": {
   "codemirror_mode": {
    "name": "ipython",
    "version": 3
   },
   "file_extension": ".py",
   "mimetype": "text/x-python",
   "name": "python",
   "nbconvert_exporter": "python",
   "pygments_lexer": "ipython3",
   "version": "3.5.2"
  }
 },
 "nbformat": 4,
 "nbformat_minor": 1
}
