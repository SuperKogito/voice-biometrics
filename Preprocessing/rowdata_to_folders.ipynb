{
 "cells": [
  {
   "cell_type": "code",
   "execution_count": 3,
   "metadata": {
    "collapsed": false
   },
   "outputs": [],
   "source": [
    "import re\n",
    "import glob\n",
    "import os\n",
    "import shutil\n",
    "\n",
    "def move_to(file, directory):\n",
    "    os.rename(file, directory + '/' + filename) #перемещаем файл в папку\n",
    "    \n",
    "datafolder = '//Mtm001-pc/LANTA/vad1/' #'/Users/1/Desktop/ROW_DATA/'\n",
    "data = os.listdir(datafolder)\n",
    "uids = []\n",
    "\n",
    "for filename in data:\n",
    "    uids.append(re.split('_', filename)[1])\n",
    "uids = set(uids) #список униальных идентификаторов\n",
    "\n",
    "for uid in uids:\n",
    "    \n",
    "    directory = datafolder + uid\n",
    "    if not os.path.exists(directory):\n",
    "        os.makedirs(directory) #создаем папку для id\n",
    "        \n",
    "    for filename in data:\n",
    "        try:\n",
    "            if uid in filename:\n",
    "                os.rename(datafolder + filename, directory + '/' + filename) #перемещаем файл в папку\n",
    "                #shutil.copyfile(datafolder + filename, directory + '/' + filename) #копируем файл в папку\n",
    "        except:\n",
    "            continue"
   ]
  }
 ],
 "metadata": {
  "anaconda-cloud": {},
  "kernelspec": {
   "display_name": "Python [conda root]",
   "language": "python",
   "name": "conda-root-py"
  },
  "language_info": {
   "codemirror_mode": {
    "name": "ipython",
    "version": 3
   },
   "file_extension": ".py",
   "mimetype": "text/x-python",
   "name": "python",
   "nbconvert_exporter": "python",
   "pygments_lexer": "ipython3",
   "version": "3.5.2"
  }
 },
 "nbformat": 4,
 "nbformat_minor": 1
}
