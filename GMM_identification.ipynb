{
 "cells": [
  {
   "cell_type": "code",
   "execution_count": 1,
   "metadata": {
    "collapsed": false
   },
   "outputs": [],
   "source": [
    "import numpy as np\n",
    "import csv\n",
    "import pandas as pd\n",
    "from scipy.fftpack import dct, fft\n",
    "from scipy.io import wavfile\n",
    "from scipy import linalg\n",
    "import matplotlib.pyplot as plt\n",
    "%matplotlib inline\n",
    "import python_speech_features as features\n",
    "from sklearn import mixture\n",
    "import itertools\n",
    "import statistics\n",
    "from math import e, pi, log\n",
    "import operator\n",
    "import scipy.io"
   ]
  },
  {
   "cell_type": "markdown",
   "metadata": {},
   "source": [
    "### Загрузка коэффициентов "
   ]
  },
  {
   "cell_type": "markdown",
   "metadata": {},
   "source": [
    "#### Matlab "
   ]
  },
  {
   "cell_type": "code",
   "execution_count": null,
   "metadata": {
    "collapsed": true
   },
   "outputs": [],
   "source": [
    "import scipy.io\n",
    "train_arrays = scipy.io.loadmat('./Models/train_fourty/train_MFCC.mat')\n",
    "train_arrays = train_arrays['train_MFCC_norm'][0][2]\n",
    "\n",
    "test_arrays = scipy.io.loadmat('./Models/test_fourty/test_MFCC.mat')\n",
    "test_arrays = test_arrays['test_MFCC_norm'][0][2]"
   ]
  },
  {
   "cell_type": "markdown",
   "metadata": {},
   "source": [
    "#### Bob "
   ]
  },
  {
   "cell_type": "code",
   "execution_count": 3,
   "metadata": {
    "collapsed": false
   },
   "outputs": [],
   "source": [
    "train_arrays = np.load('/Users/1/Desktop/TEST/NEW/train_hundred/train.npy')\n",
    "test_arrays = np.load('/Users/1/Desktop/TEST/NEW/test_hundred/test.npy')"
   ]
  },
  {
   "cell_type": "markdown",
   "metadata": {},
   "source": [
    "## Base Functions "
   ]
  },
  {
   "cell_type": "code",
   "execution_count": 2,
   "metadata": {
    "collapsed": true
   },
   "outputs": [],
   "source": [
    "def max_likelihood(X, means, cov, w):\n",
    "    N, f = X.shape\n",
    "    P = []\n",
    "    for vector_index in range(N):\n",
    "        weighted_prob = []\n",
    "        for i in range(0,10):\n",
    "            gaussian = (w[i])*np.exp(-0.5*np.dot(np.dot((X[vector_index]-means[i]), (np.linalg.inv(cov[i]))), \n",
    "                (np.transpose(X[vector_index]-means[i]))))/(((2*pi)**(f/2))*((np.linalg.det(cov[i]))**0.5))\n",
    "            weighted_prob.append(gaussian)\n",
    "        P.append(sum(weighted_prob))\n",
    "    S = (1/N)*sum(log(j) for j in filter(lambda a: a!=0, P))\n",
    "    return S"
   ]
  },
  {
   "cell_type": "markdown",
   "metadata": {},
   "source": [
    "## Train Test Part "
   ]
  },
  {
   "cell_type": "markdown",
   "metadata": {},
   "source": [
    "### GMM Score Result "
   ]
  },
  {
   "cell_type": "markdown",
   "metadata": {},
   "source": [
    "#### NEW 1:100"
   ]
  },
  {
   "cell_type": "markdown",
   "metadata": {},
   "source": [
    "19 + Energy (60) - все в нулевой класс (50/50)"
   ]
  },
  {
   "cell_type": "markdown",
   "metadata": {},
   "source": [
    "19 без энергии (57) - все в нулевой класс (50/50)"
   ]
  },
  {
   "cell_type": "markdown",
   "metadata": {},
   "source": [
    "17 + Energy (54) - все в нулевой класс (50/50)"
   ]
  },
  {
   "cell_type": "markdown",
   "metadata": {},
   "source": [
    "16 + Energy (51) - так же как и 16 без энергии (2/50)"
   ]
  },
  {
   "cell_type": "markdown",
   "metadata": {},
   "source": [
    "13 + Energy (42) - 4% ошибок (2/50)"
   ]
  },
  {
   "cell_type": "markdown",
   "metadata": {},
   "source": [
    "16 без энергии (48) - 4% ошибок (2/50)"
   ]
  },
  {
   "cell_type": "markdown",
   "metadata": {},
   "source": [
    "13 + Energy - 5% ошибок (5/100)"
   ]
  },
  {
   "cell_type": "markdown",
   "metadata": {},
   "source": [
    "train = test = 10 sec: 41% ошибок (41/100)"
   ]
  },
  {
   "cell_type": "code",
   "execution_count": 5,
   "metadata": {
    "collapsed": false
   },
   "outputs": [],
   "source": [
    "#train\n",
    "gmm_arrays = []\n",
    "for i in range(0, len(train_arrays)):\n",
    "    gmm = mixture.GaussianMixture(n_components = 10, max_iter=150).fit(train_arrays[i])\n",
    "    gmm_arrays.append([gmm.means_])\n",
    "    gmm_arrays[-1].append(gmm.covariances_)\n",
    "    gmm_arrays[-1].append(gmm.weights_)"
   ]
  },
  {
   "cell_type": "code",
   "execution_count": 11,
   "metadata": {
    "collapsed": false,
    "scrolled": true
   },
   "outputs": [
    {
     "name": "stdout",
     "output_type": "stream",
     "text": [
      "0\n",
      "0\n",
      "1\n",
      "1\n",
      "2\n",
      "2\n",
      "3\n",
      "3\n",
      "4\n",
      "4\n",
      "5\n",
      "5\n",
      "6\n",
      "6\n",
      "7\n",
      "7\n",
      "8\n",
      "59\n",
      "9\n",
      "9\n",
      "10\n",
      "88\n",
      "11\n",
      "11\n",
      "12\n",
      "12\n",
      "13\n",
      "88\n",
      "14\n",
      "70\n",
      "15\n",
      "15\n",
      "16\n",
      "65\n",
      "17\n",
      "17\n",
      "18\n",
      "77\n",
      "19\n",
      "19\n",
      "20\n",
      "27\n",
      "21\n",
      "21\n",
      "22\n",
      "22\n",
      "23\n",
      "23\n",
      "24\n",
      "24\n",
      "25\n",
      "26\n",
      "26\n",
      "53\n",
      "27\n",
      "27\n",
      "28\n",
      "28\n",
      "29\n",
      "29\n",
      "30\n",
      "30\n",
      "31\n",
      "31\n",
      "32\n",
      "89\n",
      "33\n",
      "33\n",
      "34\n",
      "34\n",
      "35\n"
     ]
    },
    {
     "ename": "KeyboardInterrupt",
     "evalue": "",
     "output_type": "error",
     "traceback": [
      "\u001b[0;31m---------------------------------------------------------------------------\u001b[0m",
      "\u001b[0;31mKeyboardInterrupt\u001b[0m                         Traceback (most recent call last)",
      "\u001b[0;32m<ipython-input-11-a4c072f0ddfd>\u001b[0m in \u001b[0;36m<module>\u001b[0;34m()\u001b[0m\n\u001b[1;32m      8\u001b[0m \u001b[1;33m\u001b[0m\u001b[0m\n\u001b[1;32m      9\u001b[0m     \u001b[1;32mfor\u001b[0m \u001b[0mi\u001b[0m \u001b[1;32min\u001b[0m \u001b[0mrange\u001b[0m\u001b[1;33m(\u001b[0m\u001b[1;36m0\u001b[0m\u001b[1;33m,\u001b[0m \u001b[0mlen\u001b[0m\u001b[1;33m(\u001b[0m\u001b[0mtrain_arrays\u001b[0m\u001b[1;33m)\u001b[0m\u001b[1;33m)\u001b[0m\u001b[1;33m:\u001b[0m\u001b[1;33m\u001b[0m\u001b[0m\n\u001b[0;32m---> 10\u001b[0;31m         \u001b[0mp\u001b[0m\u001b[1;33m.\u001b[0m\u001b[0mappend\u001b[0m\u001b[1;33m(\u001b[0m\u001b[0mmax_likelihood\u001b[0m\u001b[1;33m(\u001b[0m\u001b[0mtest_arrays\u001b[0m\u001b[1;33m[\u001b[0m\u001b[0mspeaker\u001b[0m\u001b[1;33m]\u001b[0m\u001b[1;33m,\u001b[0m \u001b[0mgmm_arrays\u001b[0m\u001b[1;33m[\u001b[0m\u001b[0mi\u001b[0m\u001b[1;33m]\u001b[0m\u001b[1;33m[\u001b[0m\u001b[1;36m0\u001b[0m\u001b[1;33m]\u001b[0m\u001b[1;33m,\u001b[0m \u001b[0mgmm_arrays\u001b[0m\u001b[1;33m[\u001b[0m\u001b[0mi\u001b[0m\u001b[1;33m]\u001b[0m\u001b[1;33m[\u001b[0m\u001b[1;36m1\u001b[0m\u001b[1;33m]\u001b[0m\u001b[1;33m,\u001b[0m \u001b[0mgmm_arrays\u001b[0m\u001b[1;33m[\u001b[0m\u001b[0mi\u001b[0m\u001b[1;33m]\u001b[0m\u001b[1;33m[\u001b[0m\u001b[1;36m2\u001b[0m\u001b[1;33m]\u001b[0m\u001b[1;33m)\u001b[0m\u001b[1;33m)\u001b[0m\u001b[1;33m\u001b[0m\u001b[0m\n\u001b[0m\u001b[1;32m     11\u001b[0m     \u001b[0mmax_lklhd\u001b[0m \u001b[1;33m=\u001b[0m \u001b[0mp\u001b[0m\u001b[1;33m.\u001b[0m\u001b[0mindex\u001b[0m\u001b[1;33m(\u001b[0m\u001b[0mmax\u001b[0m\u001b[1;33m(\u001b[0m\u001b[0mp\u001b[0m\u001b[1;33m)\u001b[0m\u001b[1;33m)\u001b[0m\u001b[1;33m\u001b[0m\u001b[0m\n\u001b[1;32m     12\u001b[0m     \u001b[1;32mif\u001b[0m \u001b[0mmax_lklhd\u001b[0m \u001b[1;33m==\u001b[0m \u001b[0mspeaker\u001b[0m\u001b[1;33m:\u001b[0m\u001b[1;33m\u001b[0m\u001b[0m\n",
      "\u001b[0;32m<ipython-input-2-d18d369e7b2d>\u001b[0m in \u001b[0;36mmax_likelihood\u001b[0;34m(X, means, cov, w)\u001b[0m\n\u001b[1;32m      6\u001b[0m         \u001b[1;32mfor\u001b[0m \u001b[0mi\u001b[0m \u001b[1;32min\u001b[0m \u001b[0mrange\u001b[0m\u001b[1;33m(\u001b[0m\u001b[1;36m0\u001b[0m\u001b[1;33m,\u001b[0m\u001b[1;36m10\u001b[0m\u001b[1;33m)\u001b[0m\u001b[1;33m:\u001b[0m\u001b[1;33m\u001b[0m\u001b[0m\n\u001b[1;32m      7\u001b[0m             gaussian = (w[i])*np.exp(-0.5*np.dot(np.dot((X[vector_index]-means[i]), (np.linalg.inv(cov[i]))), \n\u001b[0;32m----> 8\u001b[0;31m                 (np.transpose(X[vector_index]-means[i]))))/(((2*pi)**(f/2))*((np.linalg.det(cov[i]))**0.5))\n\u001b[0m\u001b[1;32m      9\u001b[0m             \u001b[0mweighted_prob\u001b[0m\u001b[1;33m.\u001b[0m\u001b[0mappend\u001b[0m\u001b[1;33m(\u001b[0m\u001b[0mgaussian\u001b[0m\u001b[1;33m)\u001b[0m\u001b[1;33m\u001b[0m\u001b[0m\n\u001b[1;32m     10\u001b[0m         \u001b[0mP\u001b[0m\u001b[1;33m.\u001b[0m\u001b[0mappend\u001b[0m\u001b[1;33m(\u001b[0m\u001b[0msum\u001b[0m\u001b[1;33m(\u001b[0m\u001b[0mweighted_prob\u001b[0m\u001b[1;33m)\u001b[0m\u001b[1;33m)\u001b[0m\u001b[1;33m\u001b[0m\u001b[0m\n",
      "\u001b[0;31mKeyboardInterrupt\u001b[0m: "
     ]
    }
   ],
   "source": [
    "#test\n",
    "d = []\n",
    "predict = 0\n",
    "\n",
    "for speaker in range(0, len(test_arrays)):\n",
    "    print(speaker)\n",
    "    p = []\n",
    "    \n",
    "    for i in range(0, len(train_arrays)):\n",
    "        p.append(max_likelihood(test_arrays[speaker], gmm_arrays[i][0], gmm_arrays[i][1], gmm_arrays[i][2]))\n",
    "    max_lklhd = p.index(max(p))\n",
    "    if max_lklhd == speaker:\n",
    "        predict = predict + 1\n",
    "    d.append(p)\n",
    "    \n",
    "    print(max_lklhd)\n",
    "    \n",
    "print(\"ERR: \", predict)"
   ]
  },
  {
   "cell_type": "markdown",
   "metadata": {},
   "source": [
    "### UBM Results"
   ]
  },
  {
   "cell_type": "code",
   "execution_count": 210,
   "metadata": {
    "collapsed": false
   },
   "outputs": [
    {
     "name": "stdout",
     "output_type": "stream",
     "text": [
      "23\n"
     ]
    },
    {
     "data": {
      "text/plain": [
       "[<matplotlib.lines.Line2D at 0x1461e375358>]"
      ]
     },
     "execution_count": 210,
     "metadata": {},
     "output_type": "execute_result"
    },
    {
     "data": {
      "image/png": "[encoded data removed]",
      "text/plain": [
       "<matplotlib.figure.Figure at 0x1461e311a58>"
      ]
     },
     "metadata": {},
     "output_type": "display_data"
    }
   ],
   "source": [
    "ubm_array = np.concatenate((MFCC_arrays[0], MFCC_arrays[1], MFCC_arrays[2], MFCC_arrays[3], MFCC_arrays[4],\n",
    "                   MFCC_arrays[5], MFCC_arrays[6], MFCC_arrays[7], MFCC_arrays[8], MFCC_arrays[9],\n",
    "                   MFCC_arrays[10], MFCC_arrays[11], MFCC_arrays[12], MFCC_arrays[13], MFCC_arrays[14],\n",
    "                   MFCC_arrays[15], MFCC_arrays[16], MFCC_arrays[17], MFCC_arrays[18], MFCC_arrays[19],\n",
    "                   MFCC_arrays[20], MFCC_arrays[21], MFCC_arrays[22], MFCC_arrays[23], MFCC_arrays[24],\n",
    "                   MFCC_arrays[25], MFCC_arrays[26], MFCC_arrays[27], MFCC_arrays[28]), axis = 0)\n",
    "\n",
    "gmm_ubm = mixture.GaussianMixture(n_components = 10).fit(ubm_array)\n",
    "all_ubm_likelihood = [max_likelihood(MFCC_arrays[i], gmm_ubm.means_, gmm_ubm.covariances_, gmm_ubm.weights_) for i in range(0,len(MFCC_arrays))]\n",
    "print(all_ubm_likelihood.index(max(all_ubm_likelihood)))\n",
    "plt.plot(all_ubm_likelihood)"
   ]
  },
  {
   "cell_type": "code",
   "execution_count": null,
   "metadata": {
    "collapsed": true
   },
   "outputs": [],
   "source": []
  },
  {
   "cell_type": "code",
   "execution_count": null,
   "metadata": {
    "collapsed": true
   },
   "outputs": [],
   "source": []
  },
  {
   "cell_type": "code",
   "execution_count": null,
   "metadata": {
    "collapsed": true
   },
   "outputs": [],
   "source": []
  },
  {
   "cell_type": "code",
   "execution_count": null,
   "metadata": {
    "collapsed": true
   },
   "outputs": [],
   "source": []
  }
 ],
 "metadata": {
  "anaconda-cloud": {},
  "kernelspec": {
   "display_name": "Python [conda root]",
   "language": "python",
   "name": "conda-root-py"
  },
  "language_info": {
   "codemirror_mode": {
    "name": "ipython",
    "version": 3
   },
   "file_extension": ".py",
   "mimetype": "text/x-python",
   "name": "python",
   "nbconvert_exporter": "python",
   "pygments_lexer": "ipython3",
   "version": "3.5.2"
  }
 },
 "nbformat": 4,
 "nbformat_minor": 1
}
