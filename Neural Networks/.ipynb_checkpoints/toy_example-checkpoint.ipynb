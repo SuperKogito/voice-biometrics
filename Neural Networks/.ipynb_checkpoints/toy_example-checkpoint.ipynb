{
 "cells": [
  {
   "cell_type": "code",
   "execution_count": 4,
   "metadata": {
    "collapsed": false
   },
   "outputs": [
    {
     "name": "stdout",
     "output_type": "stream",
     "text": [
      "Epoch 1/10\n",
      "4/4 [==============================] - 0s - loss: 0.6244\n",
      "Epoch 2/10\n",
      "4/4 [==============================] - 0s - loss: 0.2914\n",
      "Epoch 3/10\n",
      "4/4 [==============================] - 0s - loss: 0.1855\n",
      "Epoch 4/10\n",
      "4/4 [==============================] - 0s - loss: 0.1362\n",
      "Epoch 5/10\n",
      "4/4 [==============================] - 0s - loss: 0.1077\n",
      "Epoch 6/10\n",
      "4/4 [==============================] - 0s - loss: 0.0892\n",
      "Epoch 7/10\n",
      "4/4 [==============================] - 0s - loss: 0.0762\n",
      "Epoch 8/10\n",
      "4/4 [==============================] - 0s - loss: 0.0666\n",
      "Epoch 9/10\n",
      "4/4 [==============================] - 0s - loss: 0.0592\n",
      "Epoch 10/10\n",
      "4/4 [==============================] - 0s - loss: 0.0532\n",
      "1/1 [==============================] - 0s\n",
      "1/1 [==============================] - 0s\n",
      "[0]\n",
      "[[ 0.98484522  0.01515476]]\n"
     ]
    }
   ],
   "source": [
    "from keras.layers import Dense, Activation\n",
    "from keras.models import Sequential\n",
    "from keras.utils import np_utils\n",
    "import numpy as np\n",
    "\n",
    "model = Sequential([\n",
    "    Dense(512, input_dim = (2)),\n",
    "    Activation('sigmoid'),\n",
    "    Dense(2),\n",
    "    Activation('softmax'),\n",
    "])\n",
    "nb_classes = 2\n",
    "\n",
    "X_train = np.array([[-10,-20], [-15,-30], [101, 10], [50, 80]])\n",
    "y_train =  np.array([0, 0, 1, 1])\n",
    "y_train = np_utils.to_categorical(y_train, nb_classes)\n",
    "\n",
    "\n",
    "model.compile(loss='binary_crossentropy', optimizer='sgd') \n",
    "#loss='binary_crossentropy'\n",
    "#loss='sparse_categorical_crossentropy'\n",
    "#loss='categorical_crossentropy'\n",
    "\n",
    "\n",
    "model.fit(X_train, y_train)\n",
    "\n",
    "\n",
    "X_test = np.array([[-60, -50]])  \n",
    "classes = model.predict_classes(X_test, batch_size=32)\n",
    "proba = model.predict_proba(X_test, batch_size=32)\n",
    "\n",
    "print(classes)\n",
    "print(proba)"
   ]
  },
  {
   "cell_type": "code",
   "execution_count": null,
   "metadata": {
    "collapsed": true
   },
   "outputs": [],
   "source": []
  }
 ],
 "metadata": {
  "kernelspec": {
   "display_name": "Python [conda root]",
   "language": "python",
   "name": "conda-root-py"
  },
  "language_info": {
   "codemirror_mode": {
    "name": "ipython",
    "version": 3
   },
   "file_extension": ".py",
   "mimetype": "text/x-python",
   "name": "python",
   "nbconvert_exporter": "python",
   "pygments_lexer": "ipython3",
   "version": "3.5.2"
  }
 },
 "nbformat": 4,
 "nbformat_minor": 1
}
