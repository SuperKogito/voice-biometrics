{
 "cells": [
  {
   "cell_type": "code",
   "execution_count": 397,
   "metadata": {
    "collapsed": false
   },
   "outputs": [],
   "source": [
    "from keras.models import Sequential\n",
    "from keras.layers import Dense, LSTM, Dropout, Activation, Flatten, TimeDistributedDense\n",
    "from keras.layers.embeddings import Embedding\n",
    "from keras.preprocessing import sequence\n",
    "from keras.utils import np_utils\n",
    "from keras.layers import Convolution1D, MaxPooling1D\n",
    "\n",
    "import numpy as np\n",
    "import time"
   ]
  },
  {
   "cell_type": "markdown",
   "metadata": {},
   "source": [
    "### Data FIRST"
   ]
  },
  {
   "cell_type": "code",
   "execution_count": null,
   "metadata": {
    "collapsed": true
   },
   "outputs": [],
   "source": [
    "X_train = np.array([[-10,-20], [-15,-30], [101, 10], [50, 80]])\n",
    "y_train =  np.array([0, 0, 1, 1])\n",
    "y_train = np_utils.to_categorical(y_train, n_output)"
   ]
  },
  {
   "cell_type": "markdown",
   "metadata": {},
   "source": [
    "### Data SECOND"
   ]
  },
  {
   "cell_type": "code",
   "execution_count": null,
   "metadata": {
    "collapsed": true
   },
   "outputs": [],
   "source": [
    "trainXA = np.load('/Users/1/Desktop/TEST/NEW/train_hundred/train.npy')[0].tolist()\n",
    "trainXB = np.load('/Users/1/Desktop/TEST/NEW/train_hundred/train.npy')[1].tolist()\n",
    "X_train = np.array(trainXA + trainXB)\n",
    "\n",
    "y_train = np.array([0 for i in range(len(trainXA))] + [1 for i in range(len(trainXB))])\n",
    "y_train = np_utils.to_categorical(y_train, n_output)"
   ]
  },
  {
   "cell_type": "markdown",
   "metadata": {},
   "source": [
    "### Data THIRD"
   ]
  },
  {
   "cell_type": "code",
   "execution_count": 489,
   "metadata": {
    "collapsed": false
   },
   "outputs": [],
   "source": [
    "out_neurons = 10 #количество классов\n",
    "\n",
    "X_train = []\n",
    "y_train = []\n",
    "j = 0\n",
    "\n",
    "for i in range(out_neurons):\n",
    "    trainX = np.load('/Users/1/Desktop/share_vm/Models/train_hundred_10sec/train.npy')[i].tolist()\n",
    "    #trainX = np.load('/Users/1/Desktop/share_vm/Models/train/train.npy')[i].tolist()\n",
    "    X_train += trainX\n",
    "    y_train += [i for l in range(len(trainX))]\n",
    "    #j = j+1\n",
    "X_train = np.array(X_train)\n",
    "\n",
    "y_train = np.array(y_train)\n",
    "y_train = np_utils.to_categorical(y_train, out_neurons)"
   ]
  },
  {
   "cell_type": "markdown",
   "metadata": {},
   "source": [
    "## GO"
   ]
  },
  {
   "cell_type": "markdown",
   "metadata": {},
   "source": [
    "### Train FIRST "
   ]
  },
  {
   "cell_type": "code",
   "execution_count": 292,
   "metadata": {
    "collapsed": false,
    "scrolled": true
   },
   "outputs": [
    {
     "name": "stdout",
     "output_type": "stream",
     "text": [
      "Epoch 1/10\n",
      "19s - loss: 2.1502\n",
      "Epoch 2/10\n",
      "19s - loss: 1.8894\n",
      "Epoch 3/10\n",
      "20s - loss: 1.7845\n",
      "Epoch 4/10\n",
      "19s - loss: 1.7249\n",
      "Epoch 5/10\n",
      "19s - loss: 1.6861\n",
      "Epoch 6/10\n",
      "19s - loss: 1.6289\n",
      "Epoch 7/10\n",
      "19s - loss: 1.6072\n",
      "Epoch 8/10\n",
      "19s - loss: 1.5623\n",
      "Epoch 9/10\n",
      "19s - loss: 1.5697\n",
      "Epoch 10/10\n",
      "19s - loss: 1.4947\n"
     ]
    },
    {
     "data": {
      "text/plain": [
       "<keras.callbacks.History at 0x27ce8898fd0>"
      ]
     },
     "execution_count": 292,
     "metadata": {},
     "output_type": "execute_result"
    }
   ],
   "source": [
    "from keras.layers import Dense, Activation\n",
    "from keras.models import Sequential\n",
    "from keras.utils import np_utils\n",
    "\n",
    "n_int = 2000\n",
    "model = Sequential()\n",
    "model.add(Dense(n_int, input_dim = 42, init = 'uniform'))\n",
    "model.add(Activation('relu'))\n",
    "model.add(Dense(n_int, init = 'uniform'))\n",
    "model.add(Activation('relu'))\n",
    "model.add(Dense(n_int, init = 'uniform'))\n",
    "model.add(Activation('relu'))\n",
    "model.add(Dropout(0.3))\n",
    "model.add(Dense(n_int, init = 'uniform'))\n",
    "model.add(Activation('relu'))\n",
    "model.add(Dropout(0.3))\n",
    "model.add(Dense(n_int, init = 'uniform'))\n",
    "model.add(Activation('relu'))\n",
    "model.add(Dropout(0.3))\n",
    "model.add(Dense(n_int, init = 'uniform'))\n",
    "model.add(Activation('relu'))\n",
    "model.add(Dropout(0.3))\n",
    "model.add(Dense(n_int, init = 'uniform'))\n",
    "model.add(Activation('relu'))\n",
    "model.add(Dropout(0.3))\n",
    "model.add(Dense(n_output, init = 'uniform'))\n",
    "model.add(Activation('softmax'))\n",
    "\n",
    "model.compile(loss='categorical_crossentropy', optimizer='sgd') \n",
    "#'binary_crossentropy', 'sparse_categorical_crossentropy', 'categorical_crossentropy'\n",
    "model.fit(X_train, y_train, nb_epoch = 10, batch_size = 512, verbose = 2)"
   ]
  },
  {
   "cell_type": "markdown",
   "metadata": {},
   "source": [
    "### Train THIRD"
   ]
  },
  {
   "cell_type": "code",
   "execution_count": 502,
   "metadata": {
    "collapsed": false,
    "scrolled": false
   },
   "outputs": [
    {
     "name": "stdout",
     "output_type": "stream",
     "text": [
      "____________________________________________________________________________________________________\n",
      "Layer (type)                     Output Shape          Param #     Connected to                     \n",
      "====================================================================================================\n",
      "dense_391 (Dense)                (None, 10)            430         dense_input_92[0][0]             \n",
      "____________________________________________________________________________________________________\n",
      "activation_381 (Activation)      (None, 10)            0           dense_391[0][0]                  \n",
      "====================================================================================================\n",
      "Total params: 430\n",
      "____________________________________________________________________________________________________\n",
      "None\n",
      "Epoch 1/20\n",
      "9990/9990 [==============================] - 0s - loss: 2.3260 - acc: 0.1047     \n",
      "Epoch 2/20\n",
      "9990/9990 [==============================] - 0s - loss: 2.2715 - acc: 0.1101     \n",
      "Epoch 3/20\n",
      "9990/9990 [==============================] - 0s - loss: 2.2196 - acc: 0.1143     \n",
      "Epoch 4/20\n",
      "9990/9990 [==============================] - 0s - loss: 2.1813 - acc: 0.1099     \n",
      "Epoch 5/20\n",
      "9990/9990 [==============================] - 0s - loss: 2.1570 - acc: 0.1032     \n",
      "Epoch 6/20\n",
      "9990/9990 [==============================] - 0s - loss: 2.1353 - acc: 0.1031     \n",
      "Epoch 7/20\n",
      "9990/9990 [==============================] - 0s - loss: 2.1182 - acc: 0.1036     \n",
      "Epoch 8/20\n",
      "9990/9990 [==============================] - 0s - loss: 2.1051 - acc: 0.1032     \n",
      "Epoch 9/20\n",
      "9990/9990 [==============================] - 0s - loss: 2.0940 - acc: 0.1033     \n",
      "Epoch 10/20\n",
      "9990/9990 [==============================] - 0s - loss: 2.0852 - acc: 0.1026     \n",
      "Epoch 11/20\n",
      "9990/9990 [==============================] - 0s - loss: 2.0774 - acc: 0.1030     \n",
      "Epoch 12/20\n",
      "9990/9990 [==============================] - 0s - loss: 2.0713 - acc: 0.1029     \n",
      "Epoch 13/20\n",
      "9990/9990 [==============================] - 0s - loss: 2.0656 - acc: 0.1026     \n",
      "Epoch 14/20\n",
      "9990/9990 [==============================] - 0s - loss: 2.0608 - acc: 0.1026     \n",
      "Epoch 15/20\n",
      "9990/9990 [==============================] - 0s - loss: 2.0565 - acc: 0.1027     \n",
      "Epoch 16/20\n",
      "9990/9990 [==============================] - 0s - loss: 2.0523 - acc: 0.1022     \n",
      "Epoch 17/20\n",
      "9990/9990 [==============================] - 0s - loss: 2.0487 - acc: 0.1019     \n",
      "Epoch 18/20\n",
      "9990/9990 [==============================] - 0s - loss: 2.0423 - acc: 0.1012     \n",
      "Epoch 19/20\n",
      "9990/9990 [==============================] - 0s - loss: 2.0215 - acc: 0.1006     \n",
      "Epoch 20/20\n",
      "9990/9990 [==============================] - 0s - loss: 2.0117 - acc: 0.1004     \n"
     ]
    },
    {
     "data": {
      "text/plain": [
       "<keras.callbacks.History at 0x27d3d7c3ac8>"
      ]
     },
     "execution_count": 502,
     "metadata": {},
     "output_type": "execute_result"
    }
   ],
   "source": [
    "# you have to change your input shape (nb_samples, timesteps, input_dim)\n",
    "#X_train = X_train.reshape(len(X_train), 1, 42)\n",
    "# and also the output shape (note that the output *shape* is 2 dimensional)\n",
    "#y_train = y_train.reshape(len(y_train), 1)\n",
    "\n",
    "#out_neurons = 50\n",
    "hidden_neurons = 300\n",
    "\n",
    "model = Sequential()\n",
    "#model.add(LSTM(hidden_neurons, batch_input_shape=X_train.shape)) #input_dim=2, input_length=4\n",
    "model.add(Dense(out_neurons, input_dim = 42, activation='sigmoid'))\n",
    "model.add(Activation('softmax'))\n",
    "\n",
    "\n",
    "model.compile(loss='categorical_crossentropy', optimizer='adam', metrics=['accuracy'])\n",
    "print(model.summary())\n",
    "\n",
    "model.fit(X_train, y_train, nb_epoch=10)"
   ]
  },
  {
   "cell_type": "markdown",
   "metadata": {},
   "source": [
    "## TEST "
   ]
  },
  {
   "cell_type": "code",
   "execution_count": 503,
   "metadata": {
    "collapsed": false,
    "scrolled": false
   },
   "outputs": [
    {
     "name": "stdout",
     "output_type": "stream",
     "text": [
      " 32/999 [..............................] - ETA: 0s[(8, 992), (0, 3), (3, 2), (6, 1), (7, 1)]\n",
      " 32/999 [..............................] - ETA: 0s[(8, 992), (0, 3), (3, 2), (1, 1), (6, 1)]\n",
      " 32/999 [..............................] - ETA: 0s[(8, 993), (3, 3), (0, 2), (7, 1)]\n",
      " 32/999 [..............................] - ETA: 0s[(8, 992), (0, 3), (3, 2), (6, 1), (7, 1)]\n",
      " 32/999 [..............................] - ETA: 0s[(8, 992), (0, 3), (3, 2), (6, 1), (7, 1)]\n",
      " 32/999 [..............................] - ETA: 0s[(8, 991), (0, 3), (3, 2), (1, 1), (5, 1), (7, 1)]\n",
      " 32/999 [..............................] - ETA: 0s[(8, 992), (0, 3), (3, 2), (6, 1), (7, 1)]\n",
      " 32/999 [..............................] - ETA: 0s[(8, 991), (0, 4), (3, 2), (6, 1), (7, 1)]\n",
      " 32/999 [..............................] - ETA: 0s[(8, 992), (0, 3), (3, 2), (6, 1), (7, 1)]\n",
      " 32/999 [..............................] - ETA: 0s[(8, 992), (3, 3), (0, 2), (1, 1), (7, 1)]\n"
     ]
    }
   ],
   "source": [
    "#out_neurons = 40 \n",
    "\n",
    "for i in range(out_neurons):\n",
    "    X_test = np.load('/Users/1/Desktop/share_vm/Models/test_hundred_10sec/test.npy')[i].tolist()\n",
    "    #X_test = np.load('/Users/1/Desktop/share_vm/Models/test/test.npy')[i].tolist()\n",
    "    X_test = np.array(X_test)\n",
    "    # you have to change your input shape (nb_samples, timesteps, input_dim)\n",
    "    #X_test = X_test.reshape(len(X_test), 1, 42)\n",
    "\n",
    "    classes = model.predict_classes(X_test)\n",
    "    #proba = model.predict_proba(X_test)\n",
    "    \n",
    "    classes = model.predict_classes(X_test)\n",
    "    most_frequent = np.argmax(np.bincount(classes))\n",
    "\n",
    "    #if most_frequent != i:\n",
    "        #print(i)\n",
    "        \n",
    "    #print('\\n')\n",
    "    #print(most_frequent)\n",
    "\n",
    "\n",
    "    count = Counter(classes)\n",
    "    print(count.most_common())\n",
    "\n",
    "    #unique, counts = np.unique(classes, return_counts=True)\n",
    "    #print(np.asarray((unique, counts)).T)"
   ]
  },
  {
   "cell_type": "code",
   "execution_count": null,
   "metadata": {
    "collapsed": true
   },
   "outputs": [],
   "source": []
  },
  {
   "cell_type": "code",
   "execution_count": 447,
   "metadata": {
    "collapsed": false
   },
   "outputs": [
    {
     "name": "stdout",
     "output_type": "stream",
     "text": [
      "____________________________________________________________________________________________________\n",
      "Layer (type)                     Output Shape          Param #     Connected to                     \n",
      "====================================================================================================\n",
      "convolution1d_33 (Convolution1D) (None, 0, 100)        1100        convolution1d_input_22[0][0]     \n",
      "____________________________________________________________________________________________________\n",
      "activation_363 (Activation)      (None, 0, 100)        0           convolution1d_33[0][0]           \n",
      "____________________________________________________________________________________________________\n",
      "maxpooling1d_18 (MaxPooling1D)   (None, 0, 100)        0           activation_363[0][0]             \n",
      "____________________________________________________________________________________________________\n",
      "dropout_182 (Dropout)            (None, 0, 100)        0           maxpooling1d_18[0][0]            \n",
      "____________________________________________________________________________________________________\n",
      "convolution1d_34 (Convolution1D) (None, -4, 20)        10020       dropout_182[0][0]                \n",
      "____________________________________________________________________________________________________\n",
      "activation_364 (Activation)      (None, -4, 20)        0           convolution1d_34[0][0]           \n",
      "____________________________________________________________________________________________________\n",
      "maxpooling1d_19 (MaxPooling1D)   (None, -1, 20)        0           activation_364[0][0]             \n",
      "____________________________________________________________________________________________________\n",
      "dropout_183 (Dropout)            (None, -1, 20)        0           maxpooling1d_19[0][0]            \n",
      "____________________________________________________________________________________________________\n",
      "lstm_73 (LSTM)                   (None, 300)           385200      dropout_183[0][0]                \n",
      "____________________________________________________________________________________________________\n",
      "dropout_184 (Dropout)            (None, 300)           0           lstm_73[0][0]                    \n",
      "____________________________________________________________________________________________________\n",
      "dense_371 (Dense)                (None, 2)             602         dropout_184[0][0]                \n",
      "____________________________________________________________________________________________________\n",
      "dropout_185 (Dropout)            (None, 2)             0           dense_371[0][0]                  \n",
      "====================================================================================================\n",
      "Total params: 396922\n",
      "____________________________________________________________________________________________________\n",
      "None\n"
     ]
    }
   ],
   "source": [
    "nb_filter = 100\n",
    "filter_length = 5\n",
    "hidden_dims = 250\n",
    "pool_length = 5\n",
    "\n",
    "# LSTM\n",
    "lstm_output_size = 300\n",
    "\n",
    "# create model\n",
    "model = Sequential()\n",
    "\n",
    "model.add(Convolution1D(\n",
    "                        input_shape= (4, 2),\n",
    "                        nb_filter=nb_filter,\n",
    "                        filter_length=filter_length,\n",
    "                        border_mode='valid',\n",
    "                        subsample_length=1))\n",
    "model.add(Activation('relu'))\n",
    "model.add(MaxPooling1D(pool_length=pool_length))\n",
    "model.add(Dropout(0.4))\n",
    "\n",
    "model.add(Convolution1D(\n",
    "                        nb_filter=int(nb_filter/5),\n",
    "                        filter_length=int(filter_length),\n",
    "                        border_mode='valid',\n",
    "                        subsample_length=1))\n",
    "model.add(Activation('relu'))\n",
    "model.add(MaxPooling1D(pool_length=pool_length))\n",
    "model.add(Dropout(0.4))\n",
    "model.add(LSTM(lstm_output_size,\n",
    "                # input_shape=input_shape,\n",
    "                activation='sigmoid',\n",
    "                inner_activation='hard_sigmoid'))\n",
    "\n",
    "model.add(Dropout(0.4))\n",
    "model.add(Dense(2))\n",
    "model.add(Dropout(0.2))\n",
    "model.compile(loss='binary_crossentropy', optimizer='adam', metrics=['accuracy'])\n",
    "print(model.summary())"
   ]
  }
 ],
 "metadata": {
  "anaconda-cloud": {},
  "kernelspec": {
   "display_name": "Python [conda root]",
   "language": "python",
   "name": "conda-root-py"
  },
  "language_info": {
   "codemirror_mode": {
    "name": "ipython",
    "version": 3
   },
   "file_extension": ".py",
   "mimetype": "text/x-python",
   "name": "python",
   "nbconvert_exporter": "python",
   "pygments_lexer": "ipython3",
   "version": "3.5.2"
  }
 },
 "nbformat": 4,
 "nbformat_minor": 1
}
